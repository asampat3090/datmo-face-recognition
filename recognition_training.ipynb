{
 "cells": [
  {
   "cell_type": "code",
   "execution_count": 11,
   "metadata": {
    "collapsed": true
   },
   "outputs": [],
   "source": [
    "import face_recognition\n",
    "import os\n",
    "import pandas as pd\n",
    "import numpy as np\n",
    "import pickle\n",
    "import json\n",
    "from glob import glob\n",
    "from sklearn.ensemble import RandomForestClassifier\n",
    "from sklearn.cluster import KMeans\n",
    "np.random.seed(4)"
   ]
  },
  {
   "cell_type": "code",
   "execution_count": 2,
   "metadata": {
    "collapsed": true
   },
   "outputs": [],
   "source": [
    "data = []\n",
    "target = []\n",
    "face_names = []\n",
    "num_faces = len(face_names)"
   ]
  },
  {
   "cell_type": "code",
   "execution_count": 3,
   "metadata": {
    "collapsed": true
   },
   "outputs": [],
   "source": [
    "faces_selected = set()\n",
    "for file_path in glob(os.environ.get(\"DATA_DIR\")+\"/*/*\"):\n",
    "    class_name = file_path.split('/')[-2]\n",
    "    if not class_name == 'test':\n",
    "        if class_name not in faces_selected:\n",
    "            faces_selected.add(class_name)\n",
    "            face_names.append(class_name)\n",
    "        load_image = face_recognition.load_image_file(file_path)\n",
    "        list_encoding = face_recognition.face_encodings(load_image)\n",
    "        if len(list_encoding) > 0:\n",
    "            face_encoding = list_encoding[0]\n",
    "            data.append(face_encoding)\n",
    "            target.append(face_names.index(class_name))"
   ]
  },
  {
   "cell_type": "code",
   "execution_count": 4,
   "metadata": {
    "collapsed": true
   },
   "outputs": [],
   "source": [
    "face_names = np.array(face_names)\n",
    "data = np.asarray(data)\n",
    "dimensions = range(len(face_encoding))"
   ]
  },
  {
   "cell_type": "code",
   "execution_count": 5,
   "metadata": {},
   "outputs": [
    {
     "data": {
      "text/html": [
       "<div>\n",
       "<style>\n",
       "    .dataframe thead tr:only-child th {\n",
       "        text-align: right;\n",
       "    }\n",
       "\n",
       "    .dataframe thead th {\n",
       "        text-align: left;\n",
       "    }\n",
       "\n",
       "    .dataframe tbody tr th {\n",
       "        vertical-align: top;\n",
       "    }\n",
       "</style>\n",
       "<table border=\"1\" class=\"dataframe\">\n",
       "  <thead>\n",
       "    <tr style=\"text-align: right;\">\n",
       "      <th></th>\n",
       "      <th>0</th>\n",
       "      <th>1</th>\n",
       "      <th>2</th>\n",
       "      <th>3</th>\n",
       "      <th>4</th>\n",
       "      <th>5</th>\n",
       "      <th>6</th>\n",
       "      <th>7</th>\n",
       "      <th>8</th>\n",
       "      <th>9</th>\n",
       "      <th>...</th>\n",
       "      <th>120</th>\n",
       "      <th>121</th>\n",
       "      <th>122</th>\n",
       "      <th>123</th>\n",
       "      <th>124</th>\n",
       "      <th>125</th>\n",
       "      <th>126</th>\n",
       "      <th>127</th>\n",
       "      <th>is_train</th>\n",
       "      <th>face</th>\n",
       "    </tr>\n",
       "  </thead>\n",
       "  <tbody>\n",
       "    <tr>\n",
       "      <th>0</th>\n",
       "      <td>-0.056642</td>\n",
       "      <td>0.111967</td>\n",
       "      <td>0.045343</td>\n",
       "      <td>-0.080298</td>\n",
       "      <td>-0.121893</td>\n",
       "      <td>0.031283</td>\n",
       "      <td>-0.119775</td>\n",
       "      <td>-0.033428</td>\n",
       "      <td>0.090027</td>\n",
       "      <td>-0.031350</td>\n",
       "      <td>...</td>\n",
       "      <td>0.034124</td>\n",
       "      <td>0.021715</td>\n",
       "      <td>-0.169225</td>\n",
       "      <td>-0.166573</td>\n",
       "      <td>-0.053117</td>\n",
       "      <td>0.012711</td>\n",
       "      <td>0.003189</td>\n",
       "      <td>0.082766</td>\n",
       "      <td>False</td>\n",
       "      <td>putin</td>\n",
       "    </tr>\n",
       "    <tr>\n",
       "      <th>1</th>\n",
       "      <td>-0.056591</td>\n",
       "      <td>0.176904</td>\n",
       "      <td>0.057070</td>\n",
       "      <td>-0.045259</td>\n",
       "      <td>-0.127751</td>\n",
       "      <td>-0.024484</td>\n",
       "      <td>-0.099635</td>\n",
       "      <td>0.009118</td>\n",
       "      <td>0.081999</td>\n",
       "      <td>0.034808</td>\n",
       "      <td>...</td>\n",
       "      <td>0.027769</td>\n",
       "      <td>-0.041969</td>\n",
       "      <td>-0.164249</td>\n",
       "      <td>-0.125031</td>\n",
       "      <td>-0.051352</td>\n",
       "      <td>-0.031716</td>\n",
       "      <td>-0.022123</td>\n",
       "      <td>0.099742</td>\n",
       "      <td>True</td>\n",
       "      <td>putin</td>\n",
       "    </tr>\n",
       "    <tr>\n",
       "      <th>2</th>\n",
       "      <td>-0.075421</td>\n",
       "      <td>0.153674</td>\n",
       "      <td>0.059769</td>\n",
       "      <td>-0.064464</td>\n",
       "      <td>-0.152883</td>\n",
       "      <td>0.051880</td>\n",
       "      <td>-0.050011</td>\n",
       "      <td>-0.039049</td>\n",
       "      <td>0.196426</td>\n",
       "      <td>-0.068756</td>\n",
       "      <td>...</td>\n",
       "      <td>0.026801</td>\n",
       "      <td>0.070755</td>\n",
       "      <td>-0.186185</td>\n",
       "      <td>-0.097210</td>\n",
       "      <td>0.027087</td>\n",
       "      <td>0.018035</td>\n",
       "      <td>-0.049850</td>\n",
       "      <td>0.094557</td>\n",
       "      <td>False</td>\n",
       "      <td>putin</td>\n",
       "    </tr>\n",
       "    <tr>\n",
       "      <th>3</th>\n",
       "      <td>-0.043356</td>\n",
       "      <td>0.097681</td>\n",
       "      <td>0.067870</td>\n",
       "      <td>-0.068763</td>\n",
       "      <td>-0.129864</td>\n",
       "      <td>0.033538</td>\n",
       "      <td>-0.053448</td>\n",
       "      <td>-0.038728</td>\n",
       "      <td>0.116607</td>\n",
       "      <td>-0.034512</td>\n",
       "      <td>...</td>\n",
       "      <td>0.053414</td>\n",
       "      <td>0.029532</td>\n",
       "      <td>-0.152544</td>\n",
       "      <td>-0.161890</td>\n",
       "      <td>-0.020153</td>\n",
       "      <td>0.010267</td>\n",
       "      <td>0.035278</td>\n",
       "      <td>0.095204</td>\n",
       "      <td>False</td>\n",
       "      <td>putin</td>\n",
       "    </tr>\n",
       "    <tr>\n",
       "      <th>4</th>\n",
       "      <td>-0.067100</td>\n",
       "      <td>0.123819</td>\n",
       "      <td>-0.014953</td>\n",
       "      <td>-0.069412</td>\n",
       "      <td>-0.108969</td>\n",
       "      <td>0.032154</td>\n",
       "      <td>-0.052483</td>\n",
       "      <td>-0.032942</td>\n",
       "      <td>0.119839</td>\n",
       "      <td>-0.043241</td>\n",
       "      <td>...</td>\n",
       "      <td>0.065710</td>\n",
       "      <td>0.093189</td>\n",
       "      <td>-0.218938</td>\n",
       "      <td>-0.170097</td>\n",
       "      <td>-0.067346</td>\n",
       "      <td>-0.022166</td>\n",
       "      <td>-0.053724</td>\n",
       "      <td>0.050731</td>\n",
       "      <td>False</td>\n",
       "      <td>putin</td>\n",
       "    </tr>\n",
       "  </tbody>\n",
       "</table>\n",
       "<p>5 rows × 130 columns</p>\n",
       "</div>"
      ],
      "text/plain": [
       "          0         1         2         3         4         5         6  \\\n",
       "0 -0.056642  0.111967  0.045343 -0.080298 -0.121893  0.031283 -0.119775   \n",
       "1 -0.056591  0.176904  0.057070 -0.045259 -0.127751 -0.024484 -0.099635   \n",
       "2 -0.075421  0.153674  0.059769 -0.064464 -0.152883  0.051880 -0.050011   \n",
       "3 -0.043356  0.097681  0.067870 -0.068763 -0.129864  0.033538 -0.053448   \n",
       "4 -0.067100  0.123819 -0.014953 -0.069412 -0.108969  0.032154 -0.052483   \n",
       "\n",
       "          7         8         9  ...         120       121       122  \\\n",
       "0 -0.033428  0.090027 -0.031350  ...    0.034124  0.021715 -0.169225   \n",
       "1  0.009118  0.081999  0.034808  ...    0.027769 -0.041969 -0.164249   \n",
       "2 -0.039049  0.196426 -0.068756  ...    0.026801  0.070755 -0.186185   \n",
       "3 -0.038728  0.116607 -0.034512  ...    0.053414  0.029532 -0.152544   \n",
       "4 -0.032942  0.119839 -0.043241  ...    0.065710  0.093189 -0.218938   \n",
       "\n",
       "        123       124       125       126       127  is_train   face  \n",
       "0 -0.166573 -0.053117  0.012711  0.003189  0.082766     False  putin  \n",
       "1 -0.125031 -0.051352 -0.031716 -0.022123  0.099742      True  putin  \n",
       "2 -0.097210  0.027087  0.018035 -0.049850  0.094557     False  putin  \n",
       "3 -0.161890 -0.020153  0.010267  0.035278  0.095204     False  putin  \n",
       "4 -0.170097 -0.067346 -0.022166 -0.053724  0.050731     False  putin  \n",
       "\n",
       "[5 rows x 130 columns]"
      ]
     },
     "execution_count": 5,
     "metadata": {},
     "output_type": "execute_result"
    }
   ],
   "source": [
    "df = pd.DataFrame(data, columns=dimensions)\n",
    "df['is_train'] = np.random.uniform(0, 1, len(df)) <= .60\n",
    "df['face'] = pd.Categorical.from_codes(target, face_names)\n",
    "df.head()"
   ]
  },
  {
   "cell_type": "code",
   "execution_count": 6,
   "metadata": {
    "collapsed": true
   },
   "outputs": [],
   "source": [
    "train, test = df[df['is_train']==True], df[df['is_train']==False]"
   ]
  },
  {
   "cell_type": "code",
   "execution_count": 7,
   "metadata": {
    "collapsed": true
   },
   "outputs": [],
   "source": [
    "features = df.columns[:len(face_encoding)]\n",
    "clf = RandomForestClassifier(n_jobs=4)\n",
    "y, _ = pd.factorize(train['face'])\n",
    "clf.fit(train[features], y)"
   ]
  },
  {
   "cell_type": "code",
   "execution_count": 13,
   "metadata": {},
   "outputs": [
    {
     "name": "stdout",
     "output_type": "stream",
     "text": [
      "preds         donald_trump  mike_pence  other  putin\n",
      "actual                                              \n",
      "putin                    0           0      1      7\n",
      "mike_pence               0           5      1      0\n",
      "other                    0           1      3      1\n",
      "donald_trump             5           0      0      0\n"
     ]
    }
   ],
   "source": [
    "preds = face_names[np.array(clf.predict(test[features]))]\n",
    "cross_validation = pd.crosstab(test['face'], preds, rownames=['actual'], colnames=['preds'])\n",
    "print(cross_validation)\n",
    "stats = {'label': 'random_forest', 'cross validation': str(cross_validation)}\n",
    "model_filename = os.path.join(os.environ['OUTPUT_DIR'],'model.dat')\n",
    "pickle.dump(clf, open(model_filename, 'wb'))\n",
    "stats_filename = os.path.join(os.environ['OUTPUT_DIR'],'stats.json')\n",
    "with open(stats_filename, 'wb') as f:\n",
    "    f.write(json.dumps(stats))\n"
   ]
  },
  {
   "cell_type": "code",
   "execution_count": null,
   "metadata": {
    "collapsed": true
   },
   "outputs": [],
   "source": []
  }
 ],
 "metadata": {
  "kernelspec": {
   "display_name": "Python 2",
   "language": "python",
   "name": "python2"
  },
  "language_info": {
   "codemirror_mode": {
    "name": "ipython",
    "version": 2
   },
   "file_extension": ".py",
   "mimetype": "text/x-python",
   "name": "python",
   "nbconvert_exporter": "python",
   "pygments_lexer": "ipython2",
   "version": "2.7.6"
  }
 },
 "nbformat": 4,
 "nbformat_minor": 1
}
