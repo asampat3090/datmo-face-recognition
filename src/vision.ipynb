{
 "cells": [
  {
   "cell_type": "code",
   "execution_count": 51,
   "metadata": {},
   "outputs": [],
   "source": [
    "import face_recognition\n",
    "import os\n",
    "import pandas as pd\n",
    "import numpy as np\n",
    "from glob import glob\n",
    "from sklearn.ensemble import RandomForestClassifier\n",
    "from scikit_checkpoint import ScikitCheckpoint\n",
    "from sklearn.cluster import KMeans\n",
    "np.random.seed(4)"
   ]
  },
  {
   "cell_type": "code",
   "execution_count": 52,
   "metadata": {
    "collapsed": true
   },
   "outputs": [],
   "source": [
    "data = []\n",
    "target = []\n",
    "face_names = []\n",
    "num_faces = len(face_names)"
   ]
  },
  {
   "cell_type": "code",
   "execution_count": 53,
   "metadata": {},
   "outputs": [],
   "source": [
    "faces_selected = set()\n",
    "for file_path in glob(os.environ.get(\"DATA_DIR\")+\"/*/*\"):\n",
    "    class_name = file_path.split('/')[-2]\n",
    "    if not class_name == 'test':\n",
    "        if class_name not in faces_selected:\n",
    "            faces_selected.add(class_name)\n",
    "            face_names.append(class_name)\n",
    "        load_image = face_recognition.load_image_file(file_path)\n",
    "        list_encoding = face_recognition.face_encodings(load_image)\n",
    "        if len(list_encoding) > 0:\n",
    "            face_encoding = list_encoding[0]\n",
    "            data.append(face_encoding)\n",
    "            target.append(face_names.index(class_name))"
   ]
  },
  {
   "cell_type": "code",
   "execution_count": 54,
   "metadata": {
    "collapsed": true
   },
   "outputs": [],
   "source": [
    "face_names = np.array(face_names)\n",
    "data = np.asarray(data)\n",
    "dimensions = range(len(face_encoding))"
   ]
  },
  {
   "cell_type": "code",
   "execution_count": 60,
   "metadata": {},
   "outputs": [
    {
     "data": {
      "text/html": [
       "<div>\n",
       "<table border=\"1\" class=\"dataframe\">\n",
       "  <thead>\n",
       "    <tr style=\"text-align: right;\">\n",
       "      <th></th>\n",
       "      <th>0</th>\n",
       "      <th>1</th>\n",
       "      <th>2</th>\n",
       "      <th>3</th>\n",
       "      <th>4</th>\n",
       "      <th>5</th>\n",
       "      <th>6</th>\n",
       "      <th>7</th>\n",
       "      <th>8</th>\n",
       "      <th>9</th>\n",
       "      <th>...</th>\n",
       "      <th>120</th>\n",
       "      <th>121</th>\n",
       "      <th>122</th>\n",
       "      <th>123</th>\n",
       "      <th>124</th>\n",
       "      <th>125</th>\n",
       "      <th>126</th>\n",
       "      <th>127</th>\n",
       "      <th>is_train</th>\n",
       "      <th>face</th>\n",
       "    </tr>\n",
       "  </thead>\n",
       "  <tbody>\n",
       "    <tr>\n",
       "      <th>0</th>\n",
       "      <td>-0.099646</td>\n",
       "      <td>0.150337</td>\n",
       "      <td>-0.031157</td>\n",
       "      <td>-0.067576</td>\n",
       "      <td>-0.099756</td>\n",
       "      <td>0.044092</td>\n",
       "      <td>-0.003369</td>\n",
       "      <td>-0.007982</td>\n",
       "      <td>0.147150</td>\n",
       "      <td>-0.025015</td>\n",
       "      <td>...</td>\n",
       "      <td>0.031742</td>\n",
       "      <td>0.036646</td>\n",
       "      <td>-0.160967</td>\n",
       "      <td>-0.126963</td>\n",
       "      <td>0.033340</td>\n",
       "      <td>0.011252</td>\n",
       "      <td>-0.018887</td>\n",
       "      <td>0.029731</td>\n",
       "      <td>True</td>\n",
       "      <td>mike_pence</td>\n",
       "    </tr>\n",
       "    <tr>\n",
       "      <th>1</th>\n",
       "      <td>-0.062825</td>\n",
       "      <td>0.100133</td>\n",
       "      <td>0.015886</td>\n",
       "      <td>-0.081562</td>\n",
       "      <td>-0.132708</td>\n",
       "      <td>0.050036</td>\n",
       "      <td>-0.068835</td>\n",
       "      <td>-0.010881</td>\n",
       "      <td>0.162145</td>\n",
       "      <td>-0.036087</td>\n",
       "      <td>...</td>\n",
       "      <td>0.008829</td>\n",
       "      <td>0.005791</td>\n",
       "      <td>-0.147862</td>\n",
       "      <td>-0.116633</td>\n",
       "      <td>0.012758</td>\n",
       "      <td>0.015249</td>\n",
       "      <td>-0.068377</td>\n",
       "      <td>0.041533</td>\n",
       "      <td>True</td>\n",
       "      <td>mike_pence</td>\n",
       "    </tr>\n",
       "    <tr>\n",
       "      <th>2</th>\n",
       "      <td>-0.050357</td>\n",
       "      <td>0.149516</td>\n",
       "      <td>-0.000407</td>\n",
       "      <td>-0.043841</td>\n",
       "      <td>-0.131729</td>\n",
       "      <td>0.040053</td>\n",
       "      <td>-0.025665</td>\n",
       "      <td>-0.040291</td>\n",
       "      <td>0.154646</td>\n",
       "      <td>-0.008897</td>\n",
       "      <td>...</td>\n",
       "      <td>-0.004118</td>\n",
       "      <td>-0.007885</td>\n",
       "      <td>-0.096182</td>\n",
       "      <td>-0.141149</td>\n",
       "      <td>0.031486</td>\n",
       "      <td>0.039475</td>\n",
       "      <td>-0.063956</td>\n",
       "      <td>0.014930</td>\n",
       "      <td>False</td>\n",
       "      <td>mike_pence</td>\n",
       "    </tr>\n",
       "    <tr>\n",
       "      <th>3</th>\n",
       "      <td>-0.108595</td>\n",
       "      <td>0.091008</td>\n",
       "      <td>0.009532</td>\n",
       "      <td>-0.097698</td>\n",
       "      <td>-0.085716</td>\n",
       "      <td>0.102835</td>\n",
       "      <td>-0.039362</td>\n",
       "      <td>-0.089313</td>\n",
       "      <td>0.130574</td>\n",
       "      <td>-0.050163</td>\n",
       "      <td>...</td>\n",
       "      <td>-0.023262</td>\n",
       "      <td>0.020501</td>\n",
       "      <td>-0.156357</td>\n",
       "      <td>-0.135478</td>\n",
       "      <td>0.013596</td>\n",
       "      <td>0.059133</td>\n",
       "      <td>-0.032501</td>\n",
       "      <td>0.041920</td>\n",
       "      <td>False</td>\n",
       "      <td>mike_pence</td>\n",
       "    </tr>\n",
       "    <tr>\n",
       "      <th>4</th>\n",
       "      <td>-0.126487</td>\n",
       "      <td>0.130311</td>\n",
       "      <td>0.011764</td>\n",
       "      <td>-0.039368</td>\n",
       "      <td>-0.119886</td>\n",
       "      <td>0.092979</td>\n",
       "      <td>-0.030116</td>\n",
       "      <td>-0.093928</td>\n",
       "      <td>0.104042</td>\n",
       "      <td>-0.050722</td>\n",
       "      <td>...</td>\n",
       "      <td>0.007355</td>\n",
       "      <td>0.014003</td>\n",
       "      <td>-0.156209</td>\n",
       "      <td>-0.157914</td>\n",
       "      <td>0.036138</td>\n",
       "      <td>0.007237</td>\n",
       "      <td>-0.064688</td>\n",
       "      <td>0.065969</td>\n",
       "      <td>True</td>\n",
       "      <td>mike_pence</td>\n",
       "    </tr>\n",
       "  </tbody>\n",
       "</table>\n",
       "<p>5 rows × 130 columns</p>\n",
       "</div>"
      ],
      "text/plain": [
       "          0         1         2         3         4         5         6  \\\n",
       "0 -0.099646  0.150337 -0.031157 -0.067576 -0.099756  0.044092 -0.003369   \n",
       "1 -0.062825  0.100133  0.015886 -0.081562 -0.132708  0.050036 -0.068835   \n",
       "2 -0.050357  0.149516 -0.000407 -0.043841 -0.131729  0.040053 -0.025665   \n",
       "3 -0.108595  0.091008  0.009532 -0.097698 -0.085716  0.102835 -0.039362   \n",
       "4 -0.126487  0.130311  0.011764 -0.039368 -0.119886  0.092979 -0.030116   \n",
       "\n",
       "          7         8         9     ...           120       121       122  \\\n",
       "0 -0.007982  0.147150 -0.025015     ...      0.031742  0.036646 -0.160967   \n",
       "1 -0.010881  0.162145 -0.036087     ...      0.008829  0.005791 -0.147862   \n",
       "2 -0.040291  0.154646 -0.008897     ...     -0.004118 -0.007885 -0.096182   \n",
       "3 -0.089313  0.130574 -0.050163     ...     -0.023262  0.020501 -0.156357   \n",
       "4 -0.093928  0.104042 -0.050722     ...      0.007355  0.014003 -0.156209   \n",
       "\n",
       "        123       124       125       126       127  is_train        face  \n",
       "0 -0.126963  0.033340  0.011252 -0.018887  0.029731      True  mike_pence  \n",
       "1 -0.116633  0.012758  0.015249 -0.068377  0.041533      True  mike_pence  \n",
       "2 -0.141149  0.031486  0.039475 -0.063956  0.014930     False  mike_pence  \n",
       "3 -0.135478  0.013596  0.059133 -0.032501  0.041920     False  mike_pence  \n",
       "4 -0.157914  0.036138  0.007237 -0.064688  0.065969      True  mike_pence  \n",
       "\n",
       "[5 rows x 130 columns]"
      ]
     },
     "execution_count": 60,
     "metadata": {},
     "output_type": "execute_result"
    }
   ],
   "source": [
    "df = pd.DataFrame(data, columns=dimensions)\n",
    "df['is_train'] = np.random.uniform(0, 1, len(df)) <= .60\n",
    "df['face'] = pd.Categorical.from_codes(target, face_names)\n",
    "df.head()"
   ]
  },
  {
   "cell_type": "code",
   "execution_count": 61,
   "metadata": {},
   "outputs": [],
   "source": [
    "train, test = df[df['is_train']==True], df[df['is_train']==False]"
   ]
  },
  {
   "cell_type": "code",
   "execution_count": 62,
   "metadata": {
    "collapsed": true
   },
   "outputs": [],
   "source": [
    "features = df.columns[:len(face_encoding)]\n",
    "clf = RandomForestClassifier(n_jobs=4)\n",
    "y, _ = pd.factorize(train['face'])\n",
    "clf.fit(train[features], y)\n",
    "checkpoint = ScikitCheckpoint(os.environ['SNAPSHOTS_DIR'], )\n",
    "stats = {'label': 'random_forest'}"
   ]
  },
  {
   "cell_type": "code",
   "execution_count": 67,
   "metadata": {},
   "outputs": [
    {
     "name": "stdout",
     "output_type": "stream",
     "text": [
      "preds         donald_trump  mike_pence  putin\n",
      "actual                                       \n",
      "mike_pence               0           6      0\n",
      "donald_trump             5           0      0\n",
      "putin                    0           0      5\n"
     ]
    }
   ],
   "source": [
    "checkpoint.save_model(clf, stats)\n",
    "preds = face_names[np.array(clf.predict(test[features]))]\n",
    "cross_validation = pd.crosstab(test['face'], preds, rownames=['actual'], colnames=['preds'])\n",
    "print(cross_validation)"
   ]
  },
  {
   "cell_type": "code",
   "execution_count": null,
   "metadata": {
    "collapsed": true
   },
   "outputs": [],
   "source": [
    ""
   ]
  }
 ],
 "metadata": {
  "kernelspec": {
   "display_name": "Python 2",
   "language": "python",
   "name": "python2"
  },
  "language_info": {
   "codemirror_mode": {
    "name": "ipython",
    "version": 2.0
   },
   "file_extension": ".py",
   "mimetype": "text/x-python",
   "name": "python",
   "nbconvert_exporter": "python",
   "pygments_lexer": "ipython2",
   "version": "2.7.6"
  }
 },
 "nbformat": 4,
 "nbformat_minor": 0
}